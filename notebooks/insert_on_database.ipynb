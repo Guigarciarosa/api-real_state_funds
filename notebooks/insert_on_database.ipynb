{
 "cells": [
  {
   "cell_type": "code",
   "execution_count": 2,
   "metadata": {},
   "outputs": [],
   "source": [
    "import pandas as pd\n",
    "from sqlalchemy import create_engine\n",
    "import psycopg2"
   ]
  },
  {
   "cell_type": "code",
   "execution_count": 13,
   "metadata": {},
   "outputs": [],
   "source": [
    "df = pd.read_pickle(r'../../credenciais.pkl')"
   ]
  },
  {
   "cell_type": "code",
   "execution_count": 15,
   "metadata": {},
   "outputs": [],
   "source": [
    "user = df['user'][0]\n",
    "password = df['password'][0]\n",
    "host = df['host'][0]\n",
    "port = df['port'][0]\n",
    "database = df['database'][0]"
   ]
  },
  {
   "cell_type": "code",
   "execution_count": 16,
   "metadata": {},
   "outputs": [],
   "source": [
    "engine = create_engine(f'postgresql://{user}:{password}@{host}:{port}/{database}')"
   ]
  },
  {
   "cell_type": "code",
   "execution_count": 18,
   "metadata": {},
   "outputs": [],
   "source": [
    "def data_mart_to_database():\n",
    "    global df_1, df_2\n",
    "    df_1 = pd.read_parquet(r'../database_dashboard/data_mart_top_20_real_state_funds.parquet')\n",
    "    df_2 = pd.read_parquet(r'../database_dashboard/data_mart_real_state_date.parquet')\n",
    "    df_1.to_sql('data_mart_top_20_real_state_funds',schema=None,if_exists='append',index=False,con=engine)\n",
    "    df_2.to_sql('data_mart_real_state_date',schema=None,if_exists='append',index=False,con=engine)\n",
    "data_mart_to_database()"
   ]
  }
 ],
 "metadata": {
  "interpreter": {
   "hash": "5b78c8e87069e5fba1a84a38671d72022b5e42ef4fce698dc1e5be0be1a061dc"
  },
  "kernelspec": {
   "display_name": "Python 3.9.7 64-bit ('test_work': venv)",
   "language": "python",
   "name": "python3"
  },
  "language_info": {
   "codemirror_mode": {
    "name": "ipython",
    "version": 3
   },
   "file_extension": ".py",
   "mimetype": "text/x-python",
   "name": "python",
   "nbconvert_exporter": "python",
   "pygments_lexer": "ipython3",
   "version": "3.9.7"
  },
  "orig_nbformat": 4
 },
 "nbformat": 4,
 "nbformat_minor": 2
}
