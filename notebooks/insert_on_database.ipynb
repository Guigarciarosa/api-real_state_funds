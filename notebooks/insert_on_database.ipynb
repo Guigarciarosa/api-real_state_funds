{
 "cells": [
  {
   "cell_type": "code",
   "execution_count": 39,
   "metadata": {},
   "outputs": [],
   "source": [
    "import pandas as pd\n",
    "from sqlalchemy import create_engine\n",
    "import psycopg2"
   ]
  },
  {
   "cell_type": "code",
   "execution_count": 51,
   "metadata": {},
   "outputs": [],
   "source": [
    "user=\"api_real_state\"\n",
    "password=\"asdatqs1sd\"\n",
    "host=\"127.0.0.1\"\n",
    "port=\"5432\"\n",
    "database=\"api_real_state-funds\""
   ]
  },
  {
   "cell_type": "code",
   "execution_count": 53,
   "metadata": {},
   "outputs": [],
   "source": [
    "engine = create_engine(f'postgresql://{user}:{password}@{host}:{port}/{database}')"
   ]
  },
  {
   "cell_type": "code",
   "execution_count": 54,
   "metadata": {},
   "outputs": [],
   "source": [
    "def data_mart_to_database():\n",
    "    global df_1, df_2\n",
    "    df_1 = pd.read_parquet(r'../database_dashboard/data_mart_top_20_real_state_funds.parquet')\n",
    "    df_2 = pd.read_parquet(r'../database_dashboard/data_mart_real_state_date')\n"
   ]
  },
  {
   "cell_type": "code",
   "execution_count": 55,
   "metadata": {},
   "outputs": [],
   "source": [
    "df_1.to_sql('data_mart_top_20_real_state_funds',schema=None,if_exists='append',index=False,con=engine)"
   ]
  },
  {
   "cell_type": "code",
   "execution_count": null,
   "metadata": {},
   "outputs": [],
   "source": []
  }
 ],
 "metadata": {
  "interpreter": {
   "hash": "5b78c8e87069e5fba1a84a38671d72022b5e42ef4fce698dc1e5be0be1a061dc"
  },
  "kernelspec": {
   "display_name": "Python 3.9.7 64-bit ('test_work': venv)",
   "language": "python",
   "name": "python3"
  },
  "language_info": {
   "codemirror_mode": {
    "name": "ipython",
    "version": 3
   },
   "file_extension": ".py",
   "mimetype": "text/x-python",
   "name": "python",
   "nbconvert_exporter": "python",
   "pygments_lexer": "ipython3",
   "version": "3.9.7"
  },
  "orig_nbformat": 4
 },
 "nbformat": 4,
 "nbformat_minor": 2
}
